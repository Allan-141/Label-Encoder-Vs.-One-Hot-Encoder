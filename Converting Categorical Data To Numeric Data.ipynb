{
 "cells": [
  {
   "cell_type": "markdown",
   "id": "40e17a11",
   "metadata": {},
   "source": [
    "## CONVERT CATEGORICAL DATA INTO NUMERIC DATA - PART2\n",
    "Linkedin : https://ke.linkedin.com/in/allan-davis-9294111ba Github : https://github.com/Allan-141/"
   ]
  },
  {
   "cell_type": "code",
   "execution_count": 85,
   "id": "2a098800",
   "metadata": {},
   "outputs": [],
   "source": [
    "import numpy as np\n",
    "import pandas as pd"
   ]
  },
  {
   "cell_type": "code",
   "execution_count": 86,
   "id": "5b4c0157",
   "metadata": {},
   "outputs": [],
   "source": [
    "footballers=pd.DataFrame(data={'NAME':['RONALDO','MESSI','RUDIGER','MBAPPE','LEWANDOSKI','JAMES','KANTE','MANE'],\n",
    "                               'AGE':[36,34,33,24,30,31,29,32],\n",
    "                               'GRADE':['BEST','BETTER','GOOD','GOOD','BETTER','BEST','GOOD','BETTER'],\n",
    "                               'ROLE':['FORWARD','FORWARD','DEFENDER','FORWARD','MID','DEFENDER','MID','FORWARD'],\n",
    "                               'RATING':[305,274,270,284,301,274,276,269],\n",
    "                               'COUNTRY':['PORTUGAL','ARGENTINA','FRANCE','FRANCE','GERMAN','FRANCE','FRANCE','SENEGAL']\n",
    "                               \n",
    "    \n",
    "    \n",
    "})"
   ]
  },
  {
   "cell_type": "code",
   "execution_count": 87,
   "id": "e43e6417",
   "metadata": {},
   "outputs": [
    {
     "data": {
      "text/html": [
       "<div>\n",
       "<style scoped>\n",
       "    .dataframe tbody tr th:only-of-type {\n",
       "        vertical-align: middle;\n",
       "    }\n",
       "\n",
       "    .dataframe tbody tr th {\n",
       "        vertical-align: top;\n",
       "    }\n",
       "\n",
       "    .dataframe thead th {\n",
       "        text-align: right;\n",
       "    }\n",
       "</style>\n",
       "<table border=\"1\" class=\"dataframe\">\n",
       "  <thead>\n",
       "    <tr style=\"text-align: right;\">\n",
       "      <th></th>\n",
       "      <th>NAME</th>\n",
       "      <th>AGE</th>\n",
       "      <th>GRADE</th>\n",
       "      <th>ROLE</th>\n",
       "      <th>RATING</th>\n",
       "      <th>COUNTRY</th>\n",
       "    </tr>\n",
       "  </thead>\n",
       "  <tbody>\n",
       "    <tr>\n",
       "      <th>0</th>\n",
       "      <td>RONALDO</td>\n",
       "      <td>36</td>\n",
       "      <td>BEST</td>\n",
       "      <td>FORWARD</td>\n",
       "      <td>305</td>\n",
       "      <td>PORTUGAL</td>\n",
       "    </tr>\n",
       "    <tr>\n",
       "      <th>1</th>\n",
       "      <td>MESSI</td>\n",
       "      <td>34</td>\n",
       "      <td>BETTER</td>\n",
       "      <td>FORWARD</td>\n",
       "      <td>274</td>\n",
       "      <td>ARGENTINA</td>\n",
       "    </tr>\n",
       "    <tr>\n",
       "      <th>2</th>\n",
       "      <td>RUDIGER</td>\n",
       "      <td>33</td>\n",
       "      <td>GOOD</td>\n",
       "      <td>DEFENDER</td>\n",
       "      <td>270</td>\n",
       "      <td>FRANCE</td>\n",
       "    </tr>\n",
       "    <tr>\n",
       "      <th>3</th>\n",
       "      <td>MBAPPE</td>\n",
       "      <td>24</td>\n",
       "      <td>GOOD</td>\n",
       "      <td>FORWARD</td>\n",
       "      <td>284</td>\n",
       "      <td>FRANCE</td>\n",
       "    </tr>\n",
       "    <tr>\n",
       "      <th>4</th>\n",
       "      <td>LEWANDOSKI</td>\n",
       "      <td>30</td>\n",
       "      <td>BETTER</td>\n",
       "      <td>MID</td>\n",
       "      <td>301</td>\n",
       "      <td>GERMAN</td>\n",
       "    </tr>\n",
       "    <tr>\n",
       "      <th>5</th>\n",
       "      <td>JAMES</td>\n",
       "      <td>31</td>\n",
       "      <td>BEST</td>\n",
       "      <td>DEFENDER</td>\n",
       "      <td>274</td>\n",
       "      <td>FRANCE</td>\n",
       "    </tr>\n",
       "    <tr>\n",
       "      <th>6</th>\n",
       "      <td>KANTE</td>\n",
       "      <td>29</td>\n",
       "      <td>GOOD</td>\n",
       "      <td>MID</td>\n",
       "      <td>276</td>\n",
       "      <td>FRANCE</td>\n",
       "    </tr>\n",
       "    <tr>\n",
       "      <th>7</th>\n",
       "      <td>MANE</td>\n",
       "      <td>32</td>\n",
       "      <td>BETTER</td>\n",
       "      <td>FORWARD</td>\n",
       "      <td>269</td>\n",
       "      <td>SENEGAL</td>\n",
       "    </tr>\n",
       "  </tbody>\n",
       "</table>\n",
       "</div>"
      ],
      "text/plain": [
       "         NAME  AGE   GRADE      ROLE  RATING    COUNTRY\n",
       "0     RONALDO   36    BEST   FORWARD     305   PORTUGAL\n",
       "1       MESSI   34  BETTER   FORWARD     274  ARGENTINA\n",
       "2     RUDIGER   33    GOOD  DEFENDER     270     FRANCE\n",
       "3      MBAPPE   24    GOOD   FORWARD     284     FRANCE\n",
       "4  LEWANDOSKI   30  BETTER       MID     301     GERMAN\n",
       "5       JAMES   31    BEST  DEFENDER     274     FRANCE\n",
       "6       KANTE   29    GOOD       MID     276     FRANCE\n",
       "7        MANE   32  BETTER   FORWARD     269    SENEGAL"
      ]
     },
     "execution_count": 87,
     "metadata": {},
     "output_type": "execute_result"
    }
   ],
   "source": [
    "footballers"
   ]
  },
  {
   "cell_type": "markdown",
   "id": "1c9cc9ce",
   "metadata": {},
   "source": [
    "### CREATING DATA MAPPING"
   ]
  },
  {
   "cell_type": "code",
   "execution_count": 88,
   "id": "b783e631",
   "metadata": {},
   "outputs": [],
   "source": [
    "DataMapping = {\n",
    "    'BEST':1,\n",
    "    'BETTER':2,\n",
    "    'GOOD':3\n",
    "}"
   ]
  },
  {
   "cell_type": "code",
   "execution_count": 89,
   "id": "b00b8f7b",
   "metadata": {},
   "outputs": [],
   "source": [
    "footballers[\"GradeLabel\"] = footballers['GRADE'].map(DataMapping)"
   ]
  },
  {
   "cell_type": "code",
   "execution_count": 90,
   "id": "110b99b7",
   "metadata": {},
   "outputs": [
    {
     "data": {
      "text/html": [
       "<div>\n",
       "<style scoped>\n",
       "    .dataframe tbody tr th:only-of-type {\n",
       "        vertical-align: middle;\n",
       "    }\n",
       "\n",
       "    .dataframe tbody tr th {\n",
       "        vertical-align: top;\n",
       "    }\n",
       "\n",
       "    .dataframe thead th {\n",
       "        text-align: right;\n",
       "    }\n",
       "</style>\n",
       "<table border=\"1\" class=\"dataframe\">\n",
       "  <thead>\n",
       "    <tr style=\"text-align: right;\">\n",
       "      <th></th>\n",
       "      <th>NAME</th>\n",
       "      <th>AGE</th>\n",
       "      <th>GRADE</th>\n",
       "      <th>ROLE</th>\n",
       "      <th>RATING</th>\n",
       "      <th>COUNTRY</th>\n",
       "      <th>GradeLabel</th>\n",
       "    </tr>\n",
       "  </thead>\n",
       "  <tbody>\n",
       "    <tr>\n",
       "      <th>0</th>\n",
       "      <td>RONALDO</td>\n",
       "      <td>36</td>\n",
       "      <td>BEST</td>\n",
       "      <td>FORWARD</td>\n",
       "      <td>305</td>\n",
       "      <td>PORTUGAL</td>\n",
       "      <td>1</td>\n",
       "    </tr>\n",
       "    <tr>\n",
       "      <th>1</th>\n",
       "      <td>MESSI</td>\n",
       "      <td>34</td>\n",
       "      <td>BETTER</td>\n",
       "      <td>FORWARD</td>\n",
       "      <td>274</td>\n",
       "      <td>ARGENTINA</td>\n",
       "      <td>2</td>\n",
       "    </tr>\n",
       "    <tr>\n",
       "      <th>2</th>\n",
       "      <td>RUDIGER</td>\n",
       "      <td>33</td>\n",
       "      <td>GOOD</td>\n",
       "      <td>DEFENDER</td>\n",
       "      <td>270</td>\n",
       "      <td>FRANCE</td>\n",
       "      <td>3</td>\n",
       "    </tr>\n",
       "    <tr>\n",
       "      <th>3</th>\n",
       "      <td>MBAPPE</td>\n",
       "      <td>24</td>\n",
       "      <td>GOOD</td>\n",
       "      <td>FORWARD</td>\n",
       "      <td>284</td>\n",
       "      <td>FRANCE</td>\n",
       "      <td>3</td>\n",
       "    </tr>\n",
       "    <tr>\n",
       "      <th>4</th>\n",
       "      <td>LEWANDOSKI</td>\n",
       "      <td>30</td>\n",
       "      <td>BETTER</td>\n",
       "      <td>MID</td>\n",
       "      <td>301</td>\n",
       "      <td>GERMAN</td>\n",
       "      <td>2</td>\n",
       "    </tr>\n",
       "    <tr>\n",
       "      <th>5</th>\n",
       "      <td>JAMES</td>\n",
       "      <td>31</td>\n",
       "      <td>BEST</td>\n",
       "      <td>DEFENDER</td>\n",
       "      <td>274</td>\n",
       "      <td>FRANCE</td>\n",
       "      <td>1</td>\n",
       "    </tr>\n",
       "    <tr>\n",
       "      <th>6</th>\n",
       "      <td>KANTE</td>\n",
       "      <td>29</td>\n",
       "      <td>GOOD</td>\n",
       "      <td>MID</td>\n",
       "      <td>276</td>\n",
       "      <td>FRANCE</td>\n",
       "      <td>3</td>\n",
       "    </tr>\n",
       "    <tr>\n",
       "      <th>7</th>\n",
       "      <td>MANE</td>\n",
       "      <td>32</td>\n",
       "      <td>BETTER</td>\n",
       "      <td>FORWARD</td>\n",
       "      <td>269</td>\n",
       "      <td>SENEGAL</td>\n",
       "      <td>2</td>\n",
       "    </tr>\n",
       "  </tbody>\n",
       "</table>\n",
       "</div>"
      ],
      "text/plain": [
       "         NAME  AGE   GRADE      ROLE  RATING    COUNTRY  GradeLabel\n",
       "0     RONALDO   36    BEST   FORWARD     305   PORTUGAL           1\n",
       "1       MESSI   34  BETTER   FORWARD     274  ARGENTINA           2\n",
       "2     RUDIGER   33    GOOD  DEFENDER     270     FRANCE           3\n",
       "3      MBAPPE   24    GOOD   FORWARD     284     FRANCE           3\n",
       "4  LEWANDOSKI   30  BETTER       MID     301     GERMAN           2\n",
       "5       JAMES   31    BEST  DEFENDER     274     FRANCE           1\n",
       "6       KANTE   29    GOOD       MID     276     FRANCE           3\n",
       "7        MANE   32  BETTER   FORWARD     269    SENEGAL           2"
      ]
     },
     "execution_count": 90,
     "metadata": {},
     "output_type": "execute_result"
    }
   ],
   "source": [
    "footballers"
   ]
  },
  {
   "cell_type": "markdown",
   "id": "1159b7f9",
   "metadata": {},
   "source": [
    "### Handling Categorical data features"
   ]
  },
  {
   "cell_type": "code",
   "execution_count": 91,
   "id": "d9b05244",
   "metadata": {},
   "outputs": [
    {
     "data": {
      "text/plain": [
       "(8, 7)"
      ]
     },
     "execution_count": 91,
     "metadata": {},
     "output_type": "execute_result"
    }
   ],
   "source": [
    "footballers.shape"
   ]
  },
  {
   "cell_type": "markdown",
   "id": "f0fd7728",
   "metadata": {},
   "source": [
    "#### using one hote encoding"
   ]
  },
  {
   "cell_type": "code",
   "execution_count": 92,
   "id": "3dfa3298",
   "metadata": {},
   "outputs": [
    {
     "data": {
      "text/plain": [
       "(8, 22)"
      ]
     },
     "execution_count": 92,
     "metadata": {},
     "output_type": "execute_result"
    }
   ],
   "source": [
    "pd.get_dummies(footballers).shape"
   ]
  },
  {
   "cell_type": "markdown",
   "id": "4926c3ae",
   "metadata": {},
   "source": [
    "### The above diffference in dummies dimension is due to splitting of each columns into individaul records"
   ]
  },
  {
   "cell_type": "code",
   "execution_count": 93,
   "id": "8b44c0b1",
   "metadata": {},
   "outputs": [
    {
     "data": {
      "text/plain": [
       "3"
      ]
     },
     "execution_count": 93,
     "metadata": {},
     "output_type": "execute_result"
    }
   ],
   "source": [
    "len(footballers['GRADE'].unique())"
   ]
  },
  {
   "cell_type": "code",
   "execution_count": 94,
   "id": "fc60589b",
   "metadata": {},
   "outputs": [
    {
     "data": {
      "text/plain": [
       "8"
      ]
     },
     "execution_count": 94,
     "metadata": {},
     "output_type": "execute_result"
    }
   ],
   "source": [
    "len(footballers['NAME'].unique())"
   ]
  },
  {
   "cell_type": "markdown",
   "id": "d70ab1ad",
   "metadata": {},
   "source": [
    "### FINDING THE NUMBER OF LABELS IN THE DATAFRAME"
   ]
  },
  {
   "cell_type": "code",
   "execution_count": 95,
   "id": "f99970d8",
   "metadata": {},
   "outputs": [
    {
     "name": "stdout",
     "output_type": "stream",
     "text": [
      "NAME : 8 Labels\n",
      "AGE : 8 Labels\n",
      "GRADE : 3 Labels\n",
      "ROLE : 3 Labels\n",
      "RATING : 7 Labels\n",
      "COUNTRY : 5 Labels\n",
      "GradeLabel : 3 Labels\n"
     ]
    }
   ],
   "source": [
    "for col in footballers[0:]:\n",
    "    print(col,':',len(footballers[col].unique()),'Labels')\n"
   ]
  },
  {
   "cell_type": "markdown",
   "id": "a90b89bb",
   "metadata": {},
   "source": [
    "### Finding How many times a label is present in the records"
   ]
  },
  {
   "cell_type": "code",
   "execution_count": 96,
   "id": "7250e811",
   "metadata": {},
   "outputs": [
    {
     "data": {
      "text/plain": [
       "{'RONALDO': 1,\n",
       " 'MESSI': 1,\n",
       " 'RUDIGER': 1,\n",
       " 'MBAPPE': 1,\n",
       " 'LEWANDOSKI': 1,\n",
       " 'JAMES': 1,\n",
       " 'KANTE': 1,\n",
       " 'MANE': 1}"
      ]
     },
     "execution_count": 96,
     "metadata": {},
     "output_type": "execute_result"
    }
   ],
   "source": [
    "footballers.NAME.value_counts().to_dict()"
   ]
  },
  {
   "cell_type": "code",
   "execution_count": 97,
   "id": "bd9a79aa",
   "metadata": {},
   "outputs": [
    {
     "data": {
      "text/plain": [
       "{'FRANCE': 4, 'PORTUGAL': 1, 'ARGENTINA': 1, 'GERMAN': 1, 'SENEGAL': 1}"
      ]
     },
     "execution_count": 97,
     "metadata": {},
     "output_type": "execute_result"
    }
   ],
   "source": [
    "footballers.COUNTRY.value_counts().to_dict()"
   ]
  },
  {
   "cell_type": "code",
   "execution_count": 98,
   "id": "1887562e",
   "metadata": {},
   "outputs": [
    {
     "data": {
      "text/plain": [
       "{'BETTER': 3, 'GOOD': 3, 'BEST': 2}"
      ]
     },
     "execution_count": 98,
     "metadata": {},
     "output_type": "execute_result"
    }
   ],
   "source": [
    "footballers.GRADE.value_counts().to_dict()"
   ]
  },
  {
   "cell_type": "code",
   "execution_count": 99,
   "id": "4ca25cae",
   "metadata": {},
   "outputs": [
    {
     "data": {
      "text/plain": [
       "{'FORWARD': 4, 'DEFENDER': 2, 'MID': 2}"
      ]
     },
     "execution_count": 99,
     "metadata": {},
     "output_type": "execute_result"
    }
   ],
   "source": [
    "footballers.ROLE.value_counts().to_dict()"
   ]
  },
  {
   "cell_type": "markdown",
   "id": "0bac1c0a",
   "metadata": {},
   "source": [
    "### REPLACE EACH LABEL WITH ITS COUNT VALUE"
   ]
  },
  {
   "cell_type": "code",
   "execution_count": 100,
   "id": "ecd4b433",
   "metadata": {},
   "outputs": [
    {
     "data": {
      "text/plain": [
       "{'FORWARD': 4, 'DEFENDER': 2, 'MID': 2}"
      ]
     },
     "execution_count": 100,
     "metadata": {},
     "output_type": "execute_result"
    }
   ],
   "source": [
    "footballers_frequency_map = footballers.ROLE.value_counts().to_dict()\n",
    "footballers_frequency_map"
   ]
  },
  {
   "cell_type": "code",
   "execution_count": null,
   "id": "708166dc",
   "metadata": {},
   "outputs": [],
   "source": []
  },
  {
   "cell_type": "code",
   "execution_count": 101,
   "id": "556ec444",
   "metadata": {},
   "outputs": [],
   "source": [
    "footballers.ROLE = footballers.ROLE.map(footballers_frequency_map)"
   ]
  },
  {
   "cell_type": "code",
   "execution_count": 102,
   "id": "d27679d5",
   "metadata": {},
   "outputs": [
    {
     "data": {
      "text/html": [
       "<div>\n",
       "<style scoped>\n",
       "    .dataframe tbody tr th:only-of-type {\n",
       "        vertical-align: middle;\n",
       "    }\n",
       "\n",
       "    .dataframe tbody tr th {\n",
       "        vertical-align: top;\n",
       "    }\n",
       "\n",
       "    .dataframe thead th {\n",
       "        text-align: right;\n",
       "    }\n",
       "</style>\n",
       "<table border=\"1\" class=\"dataframe\">\n",
       "  <thead>\n",
       "    <tr style=\"text-align: right;\">\n",
       "      <th></th>\n",
       "      <th>NAME</th>\n",
       "      <th>AGE</th>\n",
       "      <th>GRADE</th>\n",
       "      <th>ROLE</th>\n",
       "      <th>RATING</th>\n",
       "      <th>COUNTRY</th>\n",
       "      <th>GradeLabel</th>\n",
       "    </tr>\n",
       "  </thead>\n",
       "  <tbody>\n",
       "    <tr>\n",
       "      <th>0</th>\n",
       "      <td>RONALDO</td>\n",
       "      <td>36</td>\n",
       "      <td>BEST</td>\n",
       "      <td>4</td>\n",
       "      <td>305</td>\n",
       "      <td>PORTUGAL</td>\n",
       "      <td>1</td>\n",
       "    </tr>\n",
       "    <tr>\n",
       "      <th>1</th>\n",
       "      <td>MESSI</td>\n",
       "      <td>34</td>\n",
       "      <td>BETTER</td>\n",
       "      <td>4</td>\n",
       "      <td>274</td>\n",
       "      <td>ARGENTINA</td>\n",
       "      <td>2</td>\n",
       "    </tr>\n",
       "    <tr>\n",
       "      <th>2</th>\n",
       "      <td>RUDIGER</td>\n",
       "      <td>33</td>\n",
       "      <td>GOOD</td>\n",
       "      <td>2</td>\n",
       "      <td>270</td>\n",
       "      <td>FRANCE</td>\n",
       "      <td>3</td>\n",
       "    </tr>\n",
       "    <tr>\n",
       "      <th>3</th>\n",
       "      <td>MBAPPE</td>\n",
       "      <td>24</td>\n",
       "      <td>GOOD</td>\n",
       "      <td>4</td>\n",
       "      <td>284</td>\n",
       "      <td>FRANCE</td>\n",
       "      <td>3</td>\n",
       "    </tr>\n",
       "    <tr>\n",
       "      <th>4</th>\n",
       "      <td>LEWANDOSKI</td>\n",
       "      <td>30</td>\n",
       "      <td>BETTER</td>\n",
       "      <td>2</td>\n",
       "      <td>301</td>\n",
       "      <td>GERMAN</td>\n",
       "      <td>2</td>\n",
       "    </tr>\n",
       "    <tr>\n",
       "      <th>5</th>\n",
       "      <td>JAMES</td>\n",
       "      <td>31</td>\n",
       "      <td>BEST</td>\n",
       "      <td>2</td>\n",
       "      <td>274</td>\n",
       "      <td>FRANCE</td>\n",
       "      <td>1</td>\n",
       "    </tr>\n",
       "    <tr>\n",
       "      <th>6</th>\n",
       "      <td>KANTE</td>\n",
       "      <td>29</td>\n",
       "      <td>GOOD</td>\n",
       "      <td>2</td>\n",
       "      <td>276</td>\n",
       "      <td>FRANCE</td>\n",
       "      <td>3</td>\n",
       "    </tr>\n",
       "    <tr>\n",
       "      <th>7</th>\n",
       "      <td>MANE</td>\n",
       "      <td>32</td>\n",
       "      <td>BETTER</td>\n",
       "      <td>4</td>\n",
       "      <td>269</td>\n",
       "      <td>SENEGAL</td>\n",
       "      <td>2</td>\n",
       "    </tr>\n",
       "  </tbody>\n",
       "</table>\n",
       "</div>"
      ],
      "text/plain": [
       "         NAME  AGE   GRADE  ROLE  RATING    COUNTRY  GradeLabel\n",
       "0     RONALDO   36    BEST     4     305   PORTUGAL           1\n",
       "1       MESSI   34  BETTER     4     274  ARGENTINA           2\n",
       "2     RUDIGER   33    GOOD     2     270     FRANCE           3\n",
       "3      MBAPPE   24    GOOD     4     284     FRANCE           3\n",
       "4  LEWANDOSKI   30  BETTER     2     301     GERMAN           2\n",
       "5       JAMES   31    BEST     2     274     FRANCE           1\n",
       "6       KANTE   29    GOOD     2     276     FRANCE           3\n",
       "7        MANE   32  BETTER     4     269    SENEGAL           2"
      ]
     },
     "execution_count": 102,
     "metadata": {},
     "output_type": "execute_result"
    }
   ],
   "source": [
    "footballers"
   ]
  },
  {
   "cell_type": "code",
   "execution_count": null,
   "id": "4ccf5333",
   "metadata": {},
   "outputs": [],
   "source": []
  },
  {
   "cell_type": "code",
   "execution_count": null,
   "id": "9646840e",
   "metadata": {},
   "outputs": [],
   "source": []
  },
  {
   "cell_type": "markdown",
   "id": "1d72f7d1",
   "metadata": {},
   "source": [
    "## The Davis Generation W.A +254757536155, \n",
    "\n",
    "Linkedin : https://ke.linkedin.com/in/allan-davis-9294111ba\n",
    "Github : https://github.com/Allan-141/"
   ]
  },
  {
   "cell_type": "markdown",
   "id": "c9b0442d",
   "metadata": {},
   "source": [
    "## BYE BI"
   ]
  }
 ],
 "metadata": {
  "kernelspec": {
   "display_name": "Python 3 (ipykernel)",
   "language": "python",
   "name": "python3"
  },
  "language_info": {
   "codemirror_mode": {
    "name": "ipython",
    "version": 3
   },
   "file_extension": ".py",
   "mimetype": "text/x-python",
   "name": "python",
   "nbconvert_exporter": "python",
   "pygments_lexer": "ipython3",
   "version": "3.9.7"
  }
 },
 "nbformat": 4,
 "nbformat_minor": 5
}
